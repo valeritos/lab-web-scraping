{
 "cells": [
  {
   "cell_type": "markdown",
   "id": "7e7a1ab8-2599-417d-9a65-25ef07f3a786",
   "metadata": {
    "id": "7e7a1ab8-2599-417d-9a65-25ef07f3a786"
   },
   "source": [
    "# Lab | Web Scraping"
   ]
  },
  {
   "cell_type": "markdown",
   "id": "ce8882fc-4815-4567-92fa-b4816358ba7d",
   "metadata": {
    "id": "ce8882fc-4815-4567-92fa-b4816358ba7d"
   },
   "source": [
    "Welcome to the IMDb Web Scraping Adventure Lab!\n",
    "\n",
    "**Objective**\n",
    "\n",
    "In this lab, we will embark on a mission to unearth valuable insights from the vast sea of data available on IMDb, one of the largest online databases of movie, TV, and celebrity information. As budding data scientists and business analysts, you have been tasked to scrape a specific subset of data from IMDb to assist film production companies in understanding the landscape of highly-rated movies in a defined time period. Your insights will potentially influence the making of the next netflix movie!\n",
    "\n",
    "**Background**\n",
    "\n",
    "In a world where data has become the new currency, businesses are leveraging big data to make informed decisions that drive success and profitability. The entertainment industry, being no exception, utilizes data analytics to comprehend market trends, audience preferences, and the performance of films based on various parameters such as director, genre, stars involved, etc. IMDb stands as a goldmine of such data, offering intricate details of almost every movie ever made.\n",
    "\n",
    "**Task**\n",
    "\n",
    "Your task is to create a Python script using `BeautifulSoup` and `pandas` to scrape IMDb movie data based on user ratings and release dates. This script should be able to filter movies with ratings above a certain threshold and within a specified date range.\n",
    "\n",
    "**Expected Outcome**\n",
    "\n",
    "- A function named `scrape_imdb` that takes four parameters: `title_type`,`user_rating`, `start_date`, and `end_date`.\n",
    "- The function should return a DataFrame with the following columns:\n",
    "  - **Movie Nr**: The number representing the movie’s position in the list.\n",
    "  - **Title**: The title of the movie.\n",
    "  - **Year**: The year the movie was released.\n",
    "  - **Rating**: The IMDb rating of the movie.\n",
    "  - **Runtime (min)**: The duration of the movie in minutes.\n",
    "  - **Genre**: The genre of the movie.\n",
    "  - **Description**: A brief description of the movie.\n",
    "  - **Director**: The director of the movie.\n",
    "  - **Stars**: The main stars of the movie.\n",
    "  - **Votes**: The number of votes the movie received.\n",
    "  - **Gross ($M)**: The gross earnings of the movie in millions of USD.\n",
    "\n",
    "You will execute this script to scrape data for movies with the Title Type `Feature Film` that have a user rating of `7.5 and above` and were released between `January 1, 1990, and December 31, 1992`.\n",
    "\n",
    "Remember to experiment with different title types, dates and ratings to ensure your code is versatile and can handle various searches effectively!\n",
    "\n",
    "**Resources**\n",
    "\n",
    "- [Beautiful Soup Documentation](https://www.crummy.com/software/BeautifulSoup/bs4/doc/)\n",
    "- [Pandas Documentation](https://pandas.pydata.org/pandas-docs/stable/index.html)\n",
    "- [IMDb Advanced Search](https://www.imdb.com/search/title/)\n"
   ]
  },
  {
   "cell_type": "markdown",
   "id": "3519921d-5890-445b-9a33-934ed8ee378c",
   "metadata": {
    "id": "3519921d-5890-445b-9a33-934ed8ee378c"
   },
   "source": [
    "**Hint**\n",
    "\n",
    "Your first mission is to familiarize yourself with the IMDb advanced search page. Head over to [IMDb advanced search](https://www.imdb.com/search/title/) and input the following parameters, keeping all other fields to their default values or blank:\n",
    "\n",
    "- **Title Type**: Feature film\n",
    "- **Release date**: From 1990 to 1992 (Note: You don't need to specify the day and month)\n",
    "- **User Rating**: 7.5 to -\n",
    "\n",
    "Upon searching, you'll land on a page showcasing a list of movies, each displaying vital details such as the title, release year, and crew information. Your task is to scrape this treasure trove of data.\n",
    "\n",
    "Carefully examine the resulting URL and construct your own URL to include all the necessary parameters for filtering the movies."
   ]
  },
  {
   "cell_type": "markdown",
   "id": "25a83a0d-a742-49f6-985e-e27887cbf922",
   "metadata": {
    "id": "25a83a0d-a742-49f6-985e-e27887cbf922"
   },
   "source": [
    "\n",
    "---\n",
    "\n",
    "**Best of luck! Immerse yourself in the world of movies and may the data be with you!**"
   ]
  },
  {
   "cell_type": "markdown",
   "id": "7b75cf0d-9afa-4eec-a9e2-befeac68b2a0",
   "metadata": {
    "id": "7b75cf0d-9afa-4eec-a9e2-befeac68b2a0"
   },
   "source": [
    "**Important note**:\n",
    "\n",
    "In the fast-changing online world, websites often get updates and make changes. When you try this lab, the IMDb website might be different from what we expect.\n",
    "\n",
    "If you run into problems because of these changes, like new rules or things that stop you from getting data, don't worry! Instead, get creative.\n",
    "\n",
    "You can choose another website that interests you and is good for scraping data. Websites like Wikipedia or The New York Times are good options. The main goal is still the same: get useful data and learn how to scrape it from a website that you find interesting. It's a chance to practice your web scraping skills and explore a source of information you like."
   ]
  },
  {
   "cell_type": "code",
   "execution_count": 25,
   "id": "40359eee-9cd7-4884-bfa4-83344c222305",
   "metadata": {
    "id": "40359eee-9cd7-4884-bfa4-83344c222305"
   },
   "outputs": [],
   "source": [
    "import pandas as pd\n",
    "import requests\n",
    "from bs4 import BeautifulSoup\n",
    "#url=\"https://www.imdb.com/search/title/\"\n",
    "#when adding filters, url will change adding the filters in\n",
    "#\"https://www.imdb.com/search/title/?title_type=feature,tv_movie&release_date=1993-01-01,2010-12-31&user_rating=2.1\"\n",
    "#since we are being asked for title type, SD and ED and user ratings, we should take the url with those parameters as variables in f string"
   ]
  },
  {
   "cell_type": "code",
   "execution_count": 26,
   "id": "d039c680",
   "metadata": {},
   "outputs": [],
   "source": [
    "\n",
    "#def scrape_imdb(title_type,start_date,end_date,user_rating)\n",
    "#url=f\"https://www.imdb.com/search/title/?title_type={title_type}&release_date={start_date},{end_date}&user_rating={user_rating},\"\n",
    "\n"
   ]
  },
  {
   "cell_type": "code",
   "execution_count": 32,
   "id": "baa9e599",
   "metadata": {},
   "outputs": [
    {
     "data": {
      "text/html": [
       "<div>\n",
       "<style scoped>\n",
       "    .dataframe tbody tr th:only-of-type {\n",
       "        vertical-align: middle;\n",
       "    }\n",
       "\n",
       "    .dataframe tbody tr th {\n",
       "        vertical-align: top;\n",
       "    }\n",
       "\n",
       "    .dataframe thead th {\n",
       "        text-align: right;\n",
       "    }\n",
       "</style>\n",
       "<table border=\"1\" class=\"dataframe\">\n",
       "  <thead>\n",
       "    <tr style=\"text-align: right;\">\n",
       "      <th></th>\n",
       "      <th>ranking</th>\n",
       "      <th>title</th>\n",
       "      <th>year</th>\n",
       "      <th>genre</th>\n",
       "      <th>duration</th>\n",
       "      <th>rating</th>\n",
       "      <th>description</th>\n",
       "      <th>director</th>\n",
       "      <th>actors</th>\n",
       "    </tr>\n",
       "  </thead>\n",
       "  <tbody>\n",
       "    <tr>\n",
       "      <th>0</th>\n",
       "      <td>1.</td>\n",
       "      <td>Os Fantasmas Divertem-se</td>\n",
       "      <td>(1988)</td>\n",
       "      <td>Comedy, Fantasy</td>\n",
       "      <td>92 min</td>\n",
       "      <td>7.5</td>\n",
       "      <td>The spirits of a deceased couple are harassed ...</td>\n",
       "      <td>Tim Burton</td>\n",
       "      <td>Alec Baldwin,Geena Davis,Michael Keaton,Annie ...</td>\n",
       "    </tr>\n",
       "  </tbody>\n",
       "</table>\n",
       "</div>"
      ],
      "text/plain": [
       "  ranking                     title    year            genre duration rating  \\\n",
       "0      1.  Os Fantasmas Divertem-se  (1988)  Comedy, Fantasy   92 min    7.5   \n",
       "\n",
       "                                         description    director  \\\n",
       "0  The spirits of a deceased couple are harassed ...  Tim Burton   \n",
       "\n",
       "                                              actors  \n",
       "0  Alec Baldwin,Geena Davis,Michael Keaton,Annie ...  "
      ]
     },
     "execution_count": 32,
     "metadata": {},
     "output_type": "execute_result"
    }
   ],
   "source": [
    "\n",
    "def scrape_imdb(title_type,start_date,end_date,user_rating):\n",
    "    film_dict = {}\n",
    "    index = 0\n",
    "    url=f\"https://www.imdb.com/search/title/?title_type={title_type},release_date={start_date},{end_date}&user_rating={user_rating}\"\n",
    "\n",
    "\n",
    "    #url = \"https://www.imdb.com/search/title/?title_type=feature&release_date=1990-01-01,1992-12-31&user_rating=7.5,\"\n",
    "    response = requests.get(url)\n",
    "    soup = BeautifulSoup(response.content)\n",
    "\n",
    "    films = soup.find_all(\"div\", attrs = {\"class\":\"lister-item mode-advanced\"})\n",
    "    for film in films:\n",
    "        #getting position, name, year\n",
    "        film_header = film.find_all(\"h3\", attrs = {\"class\":\"lister-item-header\"})\n",
    "        for item in film_header:\n",
    "            film_position = item.find_all(\"span\", attrs = {\"class\":\"lister-item-index unbold text-primary\"})[0].get_text().strip()\n",
    "            film_name = item.find_all(\"a\")[0].get_text().strip()\n",
    "            film_year = item.find_all(\"span\", attrs = {\"class\":\"lister-item-year text-muted unbold\"})[0].get_text().strip()\n",
    "\n",
    "        #getting genre, duration\n",
    "        film_genre = film.find_all(\"span\", attrs = {\"class\":\"genre\"})[0].get_text().strip()\n",
    "        film_duration = film.find_all(\"span\", attrs = {\"class\":\"runtime\"})[0].get_text().strip()\n",
    "\n",
    "        film_rating = film.find_all(\"div\", attrs = {\"class\":\"inline-block ratings-imdb-rating\"})[0].get_text().strip()\n",
    "        film_description = film.find_all(\"p\", attrs = {\"class\":\"text-muted\"})[1].get_text().strip()\n",
    "        film_director_stars = film.find_all(\"p\")[2] #currently this will return not only the director but also the actors!\n",
    "        film_director = film_director_stars.find_all(\"a\")[0].get_text().strip() #assuming the first position contains data regarding the director\n",
    "        film_actors = \",\".join([actor.get_text().strip() for actor in film_director_stars.find_all(\"a\")[1:]]) #assuming from position 1 forward we have actors\n",
    "\n",
    "\n",
    "\n",
    "        film_dict[index] = {\"ranking\":film_position,\n",
    "                          \"title\":film_name,\n",
    "                          \"year\":film_year,\n",
    "                         \"genre\":film_genre,\n",
    "                         \"duration\":film_duration,\n",
    "                            \"rating\":film_rating,\n",
    "                           \"description\":film_description,\n",
    "                           \"director\":film_director,\n",
    "                           \"actors\":film_actors}\n",
    "        index +=1\n",
    "        return pd.DataFrame.from_dict(film_dict, orient=\"index\")\n",
    "\n",
    "\n",
    "scrape_imdb(title_type=\"feature\",start_date=\"1990-01-01\",end_date=\"1992-12-31\",user_rating=\"7.5\")\n"
   ]
  },
  {
   "cell_type": "code",
   "execution_count": 37,
   "id": "bc72d46d",
   "metadata": {},
   "outputs": [
    {
     "data": {
      "text/html": [
       "<div>\n",
       "<style scoped>\n",
       "    .dataframe tbody tr th:only-of-type {\n",
       "        vertical-align: middle;\n",
       "    }\n",
       "\n",
       "    .dataframe tbody tr th {\n",
       "        vertical-align: top;\n",
       "    }\n",
       "\n",
       "    .dataframe thead th {\n",
       "        text-align: right;\n",
       "    }\n",
       "</style>\n",
       "<table border=\"1\" class=\"dataframe\">\n",
       "  <thead>\n",
       "    <tr style=\"text-align: right;\">\n",
       "      <th></th>\n",
       "      <th>ranking</th>\n",
       "      <th>title</th>\n",
       "      <th>year</th>\n",
       "      <th>genre</th>\n",
       "      <th>duration</th>\n",
       "      <th>rating</th>\n",
       "      <th>description</th>\n",
       "      <th>director</th>\n",
       "      <th>actors</th>\n",
       "    </tr>\n",
       "  </thead>\n",
       "  <tbody>\n",
       "    <tr>\n",
       "      <th>0</th>\n",
       "      <td>50.</td>\n",
       "      <td>Esposas e Concubinas</td>\n",
       "      <td>(1991)</td>\n",
       "      <td>Drama, Romance</td>\n",
       "      <td>125 min</td>\n",
       "      <td>8.1</td>\n",
       "      <td>A young woman becomes the fourth wife of a wea...</td>\n",
       "      <td>Yimou Zhang</td>\n",
       "      <td>Gong Li,Jingwu Ma,Saifei He,Cuifen Cao</td>\n",
       "    </tr>\n",
       "  </tbody>\n",
       "</table>\n",
       "</div>"
      ],
      "text/plain": [
       "  ranking                 title    year           genre duration rating  \\\n",
       "0     50.  Esposas e Concubinas  (1991)  Drama, Romance  125 min    8.1   \n",
       "\n",
       "                                         description     director  \\\n",
       "0  A young woman becomes the fourth wife of a wea...  Yimou Zhang   \n",
       "\n",
       "                                   actors  \n",
       "0  Gong Li,Jingwu Ma,Saifei He,Cuifen Cao  "
      ]
     },
     "execution_count": 37,
     "metadata": {},
     "output_type": "execute_result"
    }
   ],
   "source": [
    "def scrape_imdb(title_type, start_date, end_date, user_rating):\n",
    "    url = f\"https://www.imdb.com/search/title/?title_type={title_type}&release_date={start_date},{end_date}&user_rating={user_rating},\"\n",
    "    response = requests.get(url)\n",
    "    soup = BeautifulSoup(response.content)\n",
    "\n",
    "    film_dict = {}\n",
    "    index = 0\n",
    "\n",
    "    films = soup.find_all(\"div\", attrs = {\"class\":\"lister-item mode-advanced\"})\n",
    "    for film in films:\n",
    "      #getting the position, name and year\n",
    "        film_header = film.find_all(\"h3\", attrs = {\"class\":\"lister-item-header\"})\n",
    "        for item in film_header:\n",
    "            film_position = item.find_all(\"span\", attrs = {\"class\":\"lister-item-index unbold text-primary\"})[0].get_text().strip()\n",
    "            film_name = item.find_all(\"a\")[0].get_text().strip()\n",
    "            film_year = item.find_all(\"span\", attrs = {\"class\":\"lister-item-year text-muted unbold\"})[0].get_text().strip()\n",
    "\n",
    "    #getting more film data\n",
    "    film_genre = film.find_all(\"span\", attrs = {\"class\":\"genre\"})[0].get_text().strip()\n",
    "    film_duration = film.find_all(\"span\", attrs = {\"class\":\"runtime\"})[0].get_text().strip()\n",
    "    film_rating = film.find_all(\"div\", attrs = {\"class\":\"inline-block ratings-imdb-rating\"})[0].get_text().strip()\n",
    "    film_description = film.find_all(\"p\", attrs = {\"class\":\"text-muted\"})[1].get_text().strip()\n",
    "\n",
    "    film_director_stars = film.find_all(\"p\")[2] #currently this will return not only the director but also the actors!\n",
    "    film_director = film_director_stars.find_all(\"a\")[0].get_text().strip() #assuming the first position contains data regarding the director\n",
    "    film_actors = \",\".join([actor.get_text().strip() for actor in film_director_stars.find_all(\"a\")[1:]]) #assuming from position 1 forward we have actors\n",
    "\n",
    "\n",
    "    film_dict[index] = {\"ranking\":film_position,\n",
    "                        \"title\":film_name,\n",
    "                        \"year\":film_year,\n",
    "                        \"genre\":film_genre,\n",
    "                        \"duration\":film_duration,\n",
    "                        \"rating\":film_rating,\n",
    "                        \"description\": film_description,\n",
    "                        \"director\":film_director,\n",
    "                        \"actors\":film_actors}\n",
    "    index +=1\n",
    "    return pd.DataFrame.from_dict(film_dict, orient=\"index\")\n",
    "\n",
    "scrape_imdb(title_type=\"feature\", start_date=\"1990-01-01\", end_date=\"1992-12-31\", user_rating=\"7.5\")"
   ]
  },
  {
   "cell_type": "code",
   "execution_count": null,
   "id": "94ca69c3",
   "metadata": {},
   "outputs": [],
   "source": []
  },
  {
   "cell_type": "code",
   "execution_count": null,
   "id": "b9593b5b",
   "metadata": {},
   "outputs": [],
   "source": []
  },
  {
   "cell_type": "code",
   "execution_count": null,
   "id": "c392caee",
   "metadata": {},
   "outputs": [],
   "source": []
  },
  {
   "cell_type": "code",
   "execution_count": null,
   "id": "c0c0aed9",
   "metadata": {},
   "outputs": [],
   "source": []
  },
  {
   "cell_type": "markdown",
   "id": "9ab1217a-df9d-4a2b-a32c-2c5f1eecd52a",
   "metadata": {
    "id": "9ab1217a-df9d-4a2b-a32c-2c5f1eecd52a"
   },
   "source": [
    "## BONUS\n",
    "\n",
    "The search results span multiple pages, housing a total of 631 movies in our example with each page displaying 50 movies at most. To scrape data seamlessly from all pages, you'll need to dive deep into the structure of the URLs generated with each \"Next\" click.\n",
    "\n",
    "Take a close look at the following URLs:\n",
    "- First page:\n",
    "  ```\n",
    "  https://www.imdb.com/search/title/?title_type=feature&release_date=1990-01-01,1992-12-31&user_rating=7.5,\n",
    "  ```\n",
    "- Second page:\n",
    "  ```\n",
    "  https://www.imdb.com/search/title/?title_type=feature&release_date=1990-01-01,1992-12-31&user_rating=7.5,&start=51&ref_=adv_nxt\n",
    "  ```\n",
    "- Third page:\n",
    "  ```\n",
    "  https://www.imdb.com/search/title/?title_type=feature&release_date=1990-01-01,1992-12-31&user_rating=7.5,&start=101&ref_=adv_nxt\n",
    "  ```\n",
    "\n",
    "You should notice a pattern. There is a `start` parameter incrementing by 50 with each page, paired with a constant `ref_` parameter holding the value \"adv_nxt\".\n",
    "\n",
    "Modify your script so it's capable of iterating over all available pages to fetch data on all the 631 movies (631 is the total number of movies in the proposed example)."
   ]
  },
  {
   "cell_type": "code",
   "execution_count": null,
   "id": "21ac4fc0-a12b-4a00-9266-2020166f0dea",
   "metadata": {
    "id": "21ac4fc0-a12b-4a00-9266-2020166f0dea"
   },
   "outputs": [],
   "source": [
    "# Your solution goes here"
   ]
  }
 ],
 "metadata": {
  "colab": {
   "provenance": []
  },
  "kernelspec": {
   "display_name": "Python 3 (ipykernel)",
   "language": "python",
   "name": "python3"
  },
  "language_info": {
   "codemirror_mode": {
    "name": "ipython",
    "version": 3
   },
   "file_extension": ".py",
   "mimetype": "text/x-python",
   "name": "python",
   "nbconvert_exporter": "python",
   "pygments_lexer": "ipython3",
   "version": "3.11.4"
  }
 },
 "nbformat": 4,
 "nbformat_minor": 5
}
